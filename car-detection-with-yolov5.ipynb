{
 "cells": [
  {
   "cell_type": "markdown",
   "metadata": {},
   "source": [
    "# Importing required packages\n",
    "* tesnsorflow, numpy, pandas\n",
    "* cv2 for drawing rectangle on images\n",
    "* tdqm for showing progress bar\n",
    "* shutil for copying images"
   ]
  },
  {
   "cell_type": "code",
   "execution_count": null,
   "metadata": {
    "execution": {
     "iopub.execute_input": "2023-02-19T15:16:37.680539Z",
     "iopub.status.busy": "2023-02-19T15:16:37.680077Z",
     "iopub.status.idle": "2023-02-19T15:16:50.955268Z",
     "shell.execute_reply": "2023-02-19T15:16:50.954212Z",
     "shell.execute_reply.started": "2023-02-19T15:16:37.68046Z"
    }
   },
   "outputs": [],
   "source": [
    "import tensorflow as tf\n",
    "import matplotlib.pyplot as plt\n",
    "import numpy as np\n",
    "import pandas as pd\n",
    "import cv2\n",
    "import os\n",
    "import random\n",
    "\n",
    "from tqdm.auto import tqdm\n",
    "import shutil as sh\n",
    "from PIL import Image"
   ]
  },
  {
   "cell_type": "markdown",
   "metadata": {},
   "source": [
    "# Importing images for training our custom traning set\n",
    "* **train_dir**: training images \n",
    "* **test_dir**: testing images\n",
    "* **data**: value of boxes co-ordinates on images(xmin,ymin,xmax,ymax)"
   ]
  },
  {
   "cell_type": "code",
   "execution_count": null,
   "metadata": {
    "execution": {
     "iopub.execute_input": "2023-02-19T15:18:42.21544Z",
     "iopub.status.busy": "2023-02-19T15:18:42.213895Z",
     "iopub.status.idle": "2023-02-19T15:18:42.54984Z",
     "shell.execute_reply": "2023-02-19T15:18:42.548813Z",
     "shell.execute_reply.started": "2023-02-19T15:18:42.215392Z"
    }
   },
   "outputs": [],
   "source": [
    "train_dir = \"/kaggle/input/car-object-detection/data/training_images/\"\n",
    "test_dir = \"/kaggle/input/car-object-detection/data/testing_images/\"\n",
    "\n",
    "print('Image(train): ', len(os.listdir(train_dir)))\n",
    "print('Image(test): ', len(os.listdir(test_dir)))"
   ]
  },
  {
   "cell_type": "code",
   "execution_count": null,
   "metadata": {
    "execution": {
     "iopub.execute_input": "2023-02-19T15:18:46.067869Z",
     "iopub.status.busy": "2023-02-19T15:18:46.067476Z",
     "iopub.status.idle": "2023-02-19T15:18:46.092249Z",
     "shell.execute_reply": "2023-02-19T15:18:46.091383Z",
     "shell.execute_reply.started": "2023-02-19T15:18:46.067837Z"
    }
   },
   "outputs": [],
   "source": [
    "data = pd.read_csv(\"/kaggle/input/car-object-detection/data/train_solution_bounding_boxes (1).csv\")"
   ]
  },
  {
   "cell_type": "code",
   "execution_count": null,
   "metadata": {
    "execution": {
     "iopub.execute_input": "2023-02-19T15:18:48.396905Z",
     "iopub.status.busy": "2023-02-19T15:18:48.396361Z",
     "iopub.status.idle": "2023-02-19T15:18:48.42978Z",
     "shell.execute_reply": "2023-02-19T15:18:48.428811Z",
     "shell.execute_reply.started": "2023-02-19T15:18:48.396859Z"
    }
   },
   "outputs": [],
   "source": [
    "data.head()"
   ]
  },
  {
   "cell_type": "code",
   "execution_count": null,
   "metadata": {
    "execution": {
     "iopub.execute_input": "2023-02-19T15:18:51.498305Z",
     "iopub.status.busy": "2023-02-19T15:18:51.497856Z",
     "iopub.status.idle": "2023-02-19T15:18:51.521221Z",
     "shell.execute_reply": "2023-02-19T15:18:51.520303Z",
     "shell.execute_reply.started": "2023-02-19T15:18:51.498261Z"
    }
   },
   "outputs": [],
   "source": [
    "print(data.shape)\n",
    "data.nunique()"
   ]
  },
  {
   "cell_type": "markdown",
   "metadata": {},
   "source": [
    "# Showing training Images with green boxes on car"
   ]
  },
  {
   "cell_type": "code",
   "execution_count": null,
   "metadata": {
    "execution": {
     "iopub.execute_input": "2023-02-19T15:19:09.521513Z",
     "iopub.status.busy": "2023-02-19T15:19:09.521127Z",
     "iopub.status.idle": "2023-02-19T15:19:12.384644Z",
     "shell.execute_reply": "2023-02-19T15:19:12.383798Z",
     "shell.execute_reply.started": "2023-02-19T15:19:09.521482Z"
    }
   },
   "outputs": [],
   "source": [
    "IMAGE_SHAPE = 0\n",
    "for i in range(4):\n",
    "    rand = np.random.randint(0, data.shape[0])\n",
    "    random_row = data.iloc[rand]\n",
    "    image = plt.imread(train_dir + random_row[0])\n",
    "    plt.figure()\n",
    "    plt.imshow(image)\n",
    "    IMAGE_SHAPE = image.shape\n",
    "    print(image.shape)\n",
    "    print('Name,xmin,ymin,xmax,ymax:',random_row)\n",
    "    point1 = (int(random_row[1]), int(random_row[2]))\n",
    "    point2 = (int(random_row[3]), int(random_row[4]))\n",
    "    cv2.rectangle(image, point1, point2, color=(0, 255, 0), thickness=3)\n",
    "    plt.figure()\n",
    "    plt.imshow(image)"
   ]
  },
  {
   "cell_type": "markdown",
   "metadata": {},
   "source": [
    "# Cloning yolov5 from github\n",
    "\n",
    "**Link:** https://github.com/ultralytics/yolov5 "
   ]
  },
  {
   "cell_type": "code",
   "execution_count": null,
   "metadata": {
    "execution": {
     "iopub.execute_input": "2023-02-19T15:19:27.808355Z",
     "iopub.status.busy": "2023-02-19T15:19:27.807598Z",
     "iopub.status.idle": "2023-02-19T15:20:01.657479Z",
     "shell.execute_reply": "2023-02-19T15:20:01.656207Z",
     "shell.execute_reply.started": "2023-02-19T15:19:27.808316Z"
    }
   },
   "outputs": [],
   "source": [
    "!git clone https://github.com/ultralytics/yolov5\n",
    "!cd yolov5\n",
    "!pip install -r ./yolov5/requirements.txt"
   ]
  },
  {
   "cell_type": "markdown",
   "metadata": {},
   "source": [
    "# Data processing\n",
    "\n",
    "Converting (xmin,ymin,xmax,ymax) to (x_center,y_center, w, h) as yolo5 required that format."
   ]
  },
  {
   "cell_type": "code",
   "execution_count": null,
   "metadata": {
    "execution": {
     "iopub.execute_input": "2023-02-19T15:20:18.384806Z",
     "iopub.status.busy": "2023-02-19T15:20:18.384301Z",
     "iopub.status.idle": "2023-02-19T15:20:18.419558Z",
     "shell.execute_reply": "2023-02-19T15:20:18.41843Z",
     "shell.execute_reply.started": "2023-02-19T15:20:18.384736Z"
    }
   },
   "outputs": [],
   "source": [
    "im_h, im_w, num_chanels = IMAGE_SHAPE\n",
    "data[\"x_center\"] = (data[\"xmax\"] + data[\"xmin\"])/2\n",
    "data[\"y_center\"] = (data[\"ymax\"] + data[\"ymin\"])/2\n",
    "data[\"w\"] = data[\"xmax\"] - data[\"xmin\"]\n",
    "data[\"h\"] = data[\"ymax\"] - data[\"ymin\"]\n",
    "data[\"classes\"] = 0\n",
    "#Normalizing the values with image height and width\n",
    "data[\"x_center\"] = data[\"x_center\"]/im_w\n",
    "data[\"w\"] = data[\"w\"]/im_w\n",
    "data[\"y_center\"] = data[\"y_center\"]/im_h\n",
    "data[\"h\"] = data[\"h\"]/im_h\n",
    "data.head()"
   ]
  },
  {
   "cell_type": "code",
   "execution_count": null,
   "metadata": {
    "execution": {
     "iopub.execute_input": "2023-02-19T15:20:24.076612Z",
     "iopub.status.busy": "2023-02-19T15:20:24.075658Z",
     "iopub.status.idle": "2023-02-19T15:20:24.083215Z",
     "shell.execute_reply": "2023-02-19T15:20:24.08201Z",
     "shell.execute_reply.started": "2023-02-19T15:20:24.07656Z"
    }
   },
   "outputs": [],
   "source": [
    "index = list(data.image)\n",
    "print(len(index))"
   ]
  },
  {
   "cell_type": "markdown",
   "metadata": {},
   "source": [
    "# Training with yolov5 model\n",
    "\n",
    "First we are going create a folder \"data/fold0\" and divide our training images into train and validation set. We are going to create a txt file for each images with box co-ordinates(x_center, y_center, w, h).\n",
    "\n",
    "**STEP-1: Creating a txt file for each images inside labels folder**\n",
    "\n",
    "validation set: \"data/fold0/labels/val/\"\n",
    "\n",
    "training set: \"data/fold0/labels/train/\"\n",
    "\n",
    "**STEP-2: Copying images from each Input to folder**\n",
    "\n",
    "validation images: \"data/fold0/images/val/\"\n",
    "\n",
    "training images: \"data/fold0/images/train/\"\n",
    "\n",
    "**STEP-3: Creating dataset.yaml**\n",
    "\n",
    "Creating a dataset.yaml file as required for custom training the yolov5 model,which contains path to training data and validation data.\n",
    "\n",
    "**STEP-4: Training the model with custom data**\n",
    "\n",
    "We are going to train the model with:\n",
    "\n",
    "    - Batch size = 12\n",
    "    - Epochs = 12\n",
    "    - CONF_TRESHOLD = 0.6\n",
    "    - IOU_THRESHOLD = 0.5\n",
    "    - MODEL = 'yolov5x.pt' (large model for better output)"
   ]
  },
  {
   "cell_type": "code",
   "execution_count": null,
   "metadata": {
    "execution": {
     "iopub.execute_input": "2023-02-19T15:21:12.850404Z",
     "iopub.status.busy": "2023-02-19T15:21:12.849999Z",
     "iopub.status.idle": "2023-02-19T15:21:12.856084Z",
     "shell.execute_reply": "2023-02-19T15:21:12.854982Z",
     "shell.execute_reply.started": "2023-02-19T15:21:12.850372Z"
    }
   },
   "outputs": [],
   "source": [
    "if not os.path.exists(\"data\"):\n",
    "    os.makedirs(\"data\")\n",
    "    os.makedirs(\"data/fold{}\".format(0))"
   ]
  },
  {
   "cell_type": "code",
   "execution_count": null,
   "metadata": {
    "execution": {
     "iopub.execute_input": "2023-02-19T15:24:14.05039Z",
     "iopub.status.busy": "2023-02-19T15:24:14.049962Z",
     "iopub.status.idle": "2023-02-19T15:24:15.606367Z",
     "shell.execute_reply": "2023-02-19T15:24:15.605268Z",
     "shell.execute_reply.started": "2023-02-19T15:24:14.050354Z"
    }
   },
   "outputs": [],
   "source": [
    "source = 'training_images'\n",
    "if True:\n",
    "    for fold in [0]:\n",
    "        val_index = index[len(index)*fold//5:len(index)*(fold+1)//5]\n",
    "        for name,mini in tqdm(data.groupby('image')):\n",
    "            if name in val_index:\n",
    "                path2save = 'val/'\n",
    "            else:\n",
    "                path2save = 'train/'\n",
    "            if not os.path.exists('data/fold{}/labels/'.format(fold)+path2save):\n",
    "                os.makedirs('data/fold{}/labels/'.format(fold)+path2save)\n",
    "            with open('data/fold{}/labels/'.format(fold)+path2save+name+\".txt\", 'w+') as f:\n",
    "                row = mini[['classes','x_center','y_center','w','h']].astype(float).values\n",
    "                row = row.astype(str)\n",
    "                for j in range(len(row)):\n",
    "                    text = ' '.join(row[j])\n",
    "                    f.write(text)\n",
    "                    f.write(\"\\n\")\n",
    "            if not os.path.exists('data/fold{}/images/{}'.format(fold,path2save)):\n",
    "                os.makedirs('data/fold{}/images/{}'.format(fold,path2save))\n",
    "            sh.copy(\"/kaggle/input/car-object-detection/data/{}/{}\".format(source,name),'data/fold{}/images/{}/{}.jpg'.format(fold,path2save,name))\n",
    "        print(\"Copy done\")\n",
    "        print('Image(train): ', len(os.listdir('data/fold0/images/train/')))\n",
    "        print('Image(test): ', len(os.listdir('data/fold0/images/val/')))"
   ]
  },
  {
   "cell_type": "code",
   "execution_count": null,
   "metadata": {
    "execution": {
     "iopub.execute_input": "2023-02-19T15:24:18.624741Z",
     "iopub.status.busy": "2023-02-19T15:24:18.623773Z",
     "iopub.status.idle": "2023-02-19T15:24:18.632282Z",
     "shell.execute_reply": "2023-02-19T15:24:18.630975Z",
     "shell.execute_reply.started": "2023-02-19T15:24:18.62469Z"
    }
   },
   "outputs": [],
   "source": [
    "%%writefile dataset.yaml\n",
    "path: /kaggle/working/data/fold0\n",
    "train: /kaggle/working/data/fold0/images/train/\n",
    "val: /kaggle/working/data/fold0/images/val/\n",
    "test:\n",
    "\n",
    "names:\n",
    "    0: car"
   ]
  },
  {
   "cell_type": "code",
   "execution_count": null,
   "metadata": {
    "execution": {
     "iopub.execute_input": "2023-02-19T15:24:21.972558Z",
     "iopub.status.busy": "2023-02-19T15:24:21.972189Z",
     "iopub.status.idle": "2023-02-19T15:24:21.978039Z",
     "shell.execute_reply": "2023-02-19T15:24:21.976777Z",
     "shell.execute_reply.started": "2023-02-19T15:24:21.972527Z"
    }
   },
   "outputs": [],
   "source": [
    "IMG_SIZE = IMAGE_SHAPE[1]\n",
    "CONF_TRESHOLD = 0.6\n",
    "IOU_THRESHOLD = 0.5\n",
    "MODEL = 'yolov5x.pt'"
   ]
  },
  {
   "cell_type": "code",
   "execution_count": null,
   "metadata": {
    "execution": {
     "iopub.execute_input": "2023-02-19T15:24:41.939064Z",
     "iopub.status.busy": "2023-02-19T15:24:41.938597Z",
     "iopub.status.idle": "2023-02-19T15:30:12.86167Z",
     "shell.execute_reply": "2023-02-19T15:30:12.860245Z",
     "shell.execute_reply.started": "2023-02-19T15:24:41.939023Z"
    }
   },
   "outputs": [],
   "source": [
    "import time\n",
    "\n",
    "start = time.perf_counter()\n",
    "\n",
    "!python yolov5/train.py --batch 12 --epochs 12 --data dataset.yaml --weights {MODEL} --name my_model_5x\n",
    "\n",
    "end = time.perf_counter()\n",
    "\n",
    "total_time = end - start\n",
    "\n",
    "print(f'Training time for {MODEL} model is: {total_time:0.2f} seconds')"
   ]
  },
  {
   "cell_type": "code",
   "execution_count": null,
   "metadata": {
    "execution": {
     "iopub.execute_input": "2023-02-19T15:30:49.037513Z",
     "iopub.status.busy": "2023-02-19T15:30:49.037122Z",
     "iopub.status.idle": "2023-02-19T15:30:50.075011Z",
     "shell.execute_reply": "2023-02-19T15:30:50.073812Z",
     "shell.execute_reply.started": "2023-02-19T15:30:49.037477Z"
    }
   },
   "outputs": [],
   "source": [
    "!ls yolov5/runs/train/my_model_5x/"
   ]
  },
  {
   "cell_type": "code",
   "execution_count": null,
   "metadata": {
    "execution": {
     "iopub.execute_input": "2023-02-17T18:16:12.262051Z",
     "iopub.status.busy": "2023-02-17T18:16:12.261667Z",
     "iopub.status.idle": "2023-02-17T18:16:12.616673Z",
     "shell.execute_reply": "2023-02-17T18:16:12.615556Z",
     "shell.execute_reply.started": "2023-02-17T18:16:12.26202Z"
    }
   },
   "outputs": [],
   "source": [
    "Image.open(\"yolov5/runs/train/my_model_5x/F1_curve.png\")"
   ]
  },
  {
   "cell_type": "code",
   "execution_count": null,
   "metadata": {
    "execution": {
     "iopub.execute_input": "2023-02-17T18:18:17.890103Z",
     "iopub.status.busy": "2023-02-17T18:18:17.888914Z",
     "iopub.status.idle": "2023-02-17T18:18:18.461911Z",
     "shell.execute_reply": "2023-02-17T18:18:18.460945Z",
     "shell.execute_reply.started": "2023-02-17T18:18:17.890055Z"
    }
   },
   "outputs": [],
   "source": [
    "Image.open(\"yolov5/runs/train/my_model_5x/confusion_matrix.png\")"
   ]
  },
  {
   "cell_type": "markdown",
   "metadata": {},
   "source": [
    "# Detecting cars on test images\n",
    "\n",
    "We are now going to use our custom trained model to detect cars on our testing images. The wieghts of our train model are inside \"yolov5/runs/train/my_model_5x/weights/best.pt\"."
   ]
  },
  {
   "cell_type": "code",
   "execution_count": null,
   "metadata": {
    "execution": {
     "iopub.execute_input": "2023-02-17T18:14:12.136904Z",
     "iopub.status.busy": "2023-02-17T18:14:12.135902Z",
     "iopub.status.idle": "2023-02-17T18:14:34.05784Z",
     "shell.execute_reply": "2023-02-17T18:14:34.056513Z",
     "shell.execute_reply.started": "2023-02-17T18:14:12.136841Z"
    }
   },
   "outputs": [],
   "source": [
    "!python ./yolov5/detect.py --img {IMG_SIZE} --conf {CONF_TRESHOLD} --iou-thres {IOU_THRESHOLD} --source {test_dir} --weights yolov5/runs/train/my_model_5x/weights/best.pt"
   ]
  },
  {
   "cell_type": "code",
   "execution_count": null,
   "metadata": {},
   "outputs": [],
   "source": [
    "!ls yolov5/runs/detect/exp/"
   ]
  },
  {
   "cell_type": "code",
   "execution_count": null,
   "metadata": {
    "execution": {
     "iopub.execute_input": "2023-02-17T18:17:28.024463Z",
     "iopub.status.busy": "2023-02-17T18:17:28.024066Z",
     "iopub.status.idle": "2023-02-17T18:17:31.444144Z",
     "shell.execute_reply": "2023-02-17T18:17:31.442972Z",
     "shell.execute_reply.started": "2023-02-17T18:17:28.024422Z"
    }
   },
   "outputs": [],
   "source": [
    "pred_dir = './yolov5/runs/detect/exp'\n",
    "file_paths = []\n",
    "flist = os.listdir(pred_dir)\n",
    "for file in flist:\n",
    "    fpath = os.path.join(pred_dir, file)\n",
    "    file_paths.append(fpath)\n",
    "\n",
    "plt.figure(figsize=(30, 20))\n",
    "for i in range(16):\n",
    "    random = np.random.randint(0, len(file_paths) - 1)\n",
    "    plt.subplot(4, 4, i + 1)\n",
    "    img_path = file_paths[random]\n",
    "    img = plt.imread(img_path)\n",
    "    plt.imshow(img)\n",
    "    #plt.title('Predictions', size=10, color=\"black\") \n",
    "    plt.xticks([])\n",
    "    plt.yticks([])\n",
    "    \n",
    "plt.show()"
   ]
  }
 ],
 "metadata": {
  "kernelspec": {
   "display_name": "Python 3 (ipykernel)",
   "language": "python",
   "name": "python3"
  },
  "language_info": {
   "codemirror_mode": {
    "name": "ipython",
    "version": 3
   },
   "file_extension": ".py",
   "mimetype": "text/x-python",
   "name": "python",
   "nbconvert_exporter": "python",
   "pygments_lexer": "ipython3",
   "version": "3.9.7"
  }
 },
 "nbformat": 4,
 "nbformat_minor": 4
}
